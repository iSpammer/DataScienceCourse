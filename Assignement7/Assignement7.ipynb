{
 "cells": [
  {
   "cell_type": "code",
   "execution_count": 1,
   "metadata": {},
   "outputs": [],
   "source": [
    "import requests\n",
    "from bs4 import BeautifulSoup"
   ]
  },
  {
   "cell_type": "code",
   "execution_count": 2,
   "metadata": {},
   "outputs": [],
   "source": [
    "url='https://books.toscrape.com/catalogue/category/books/travel_2/index.html'\n",
    "respone=requests.get(url)\n",
    "soup=BeautifulSoup(respone.text,'html.parser')\n",
    "all_book = soup.find_all('ul')\n",
    "all_books=all_book[2].find_all('li')\n",
    "\n",
    "arr=[]\n",
    "str1='https://books.toscrape.com/catalogue/category/books/'\n",
    "for link in all_books:\n",
    "    tmp=link.find('a').get('href')\n",
    "    tmp=str1+tmp[3:]\n",
    "    arr.append(tmp)\n",
    "    \n",
    "\n",
    "def get_books(book_url):\n",
    "    file_name= 'books of ' + str(book_url.split('/')[-2]) + '.txt'\n",
    "    request=requests.get(book_url)\n",
    "    soup = BeautifulSoup(request.text,'html.parser')\n",
    "    Books = soup.find_all('article',attrs={'class':'product_pod'})\n",
    "    Rating_book={\"One\":1, \"Two\":2, \"Three\":3, \"Four\":4, \"Five\":5}\n",
    "    f = open (str(file_name),'w',encoding=\"utf-8\")\n",
    "    for book in Books:\n",
    "        f.write('Book Name: '+ str(book.find(\"h3\").get_text()) + '\\n')\n",
    "        f.write('Book Price: ' + str(book.find('p',attrs={'class':'price_color'}).get_text())[2:] + '\\n')\n",
    "        str1= str(book.find('p',attrs={'class':'star-rating'}).get('class')[1])\n",
    "        f.write('Book Rating: ' + str(Rating_book[str1]) + '\\n')\n",
    "        f.write('_____________________________\\n')\n",
    "    f.close()\n",
    "\n",
    "    \n",
    "get_books(url)\n",
    "for folders in arr[1:]:\n",
    "    get_books(folders)\n"
   ]
  },
  {
   "cell_type": "code",
   "execution_count": null,
   "metadata": {},
   "outputs": [],
   "source": []
  },
  {
   "cell_type": "code",
   "execution_count": 4,
   "metadata": {},
   "outputs": [],
   "source": []
  },
  {
   "cell_type": "code",
   "execution_count": 5,
   "metadata": {},
   "outputs": [],
   "source": []
  },
  {
   "cell_type": "code",
   "execution_count": 6,
   "metadata": {},
   "outputs": [],
   "source": []
  },
  {
   "cell_type": "code",
   "execution_count": 7,
   "metadata": {},
   "outputs": [],
   "source": []
  },
  {
   "cell_type": "code",
   "execution_count": 8,
   "metadata": {},
   "outputs": [],
   "source": []
  },
  {
   "cell_type": "code",
   "execution_count": null,
   "metadata": {},
   "outputs": [],
   "source": []
  },
  {
   "cell_type": "code",
   "execution_count": null,
   "metadata": {},
   "outputs": [],
   "source": []
  },
  {
   "cell_type": "code",
   "execution_count": null,
   "metadata": {},
   "outputs": [],
   "source": []
  }
 ],
 "metadata": {
  "kernelspec": {
   "display_name": "Python 3",
   "language": "python",
   "name": "python3"
  },
  "language_info": {
   "codemirror_mode": {
    "name": "ipython",
    "version": 3
   },
   "file_extension": ".py",
   "mimetype": "text/x-python",
   "name": "python",
   "nbconvert_exporter": "python",
   "pygments_lexer": "ipython3",
   "version": "3.8.3"
  }
 },
 "nbformat": 4,
 "nbformat_minor": 4
}
