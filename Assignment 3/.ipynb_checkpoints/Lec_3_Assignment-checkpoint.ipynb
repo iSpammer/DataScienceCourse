{
 "cells": [
  {
   "cell_type": "markdown",
   "metadata": {},
   "source": [
    "# Assignment - 3\n",
    "\n",
    "## -- Numbers\n",
    "\n",
    "`1-` Write an equation that uses multiplication, division, an exponent, addition, and subtraction that is equal to 100.25.\n",
    "\n",
    "Hint: This is just to test your memory of the basic arithmetic commands, work backwards from 100.25"
   ]
  },
  {
   "cell_type": "code",
   "execution_count": 1,
   "metadata": {},
   "outputs": [
    {
     "name": "stdout",
     "output_type": "stream",
     "text": [
      "Summation      =  99     + 1.25 = 100.25\n",
      "Subtraction    =  105    - 4.75 = 100.25\n",
      "Multiplication =  50.125 * 2    = 100.25\n",
      "Divistion      =  200.5  / 2    = 100.25\n"
     ]
    }
   ],
   "source": [
    "num1 = 99\n",
    "num2 = 1.25\n",
    "result = num1 + num2\n",
    "print(\"Summation      = \", num1 ,\"    +\" , num2 , \"=\" ,result)\n",
    "\n",
    "num1 = 105\n",
    "num2 = 4.75\n",
    "result = num1 - num2\n",
    "print(\"Subtraction    = \", num1 ,\"   -\" , num2 , \"=\" ,result)\n",
    "\n",
    "num1 = 50.125\n",
    "num2 = 2\n",
    "result = 50.125 * 2\n",
    "print(\"Multiplication = \", num1 ,\"*\" , num2 , \"   =\" ,result)\n",
    "\n",
    "num1 = 200.5\n",
    "num2 = 2\n",
    "result = num1 / num2\n",
    "print(\"Divistion      = \", num1 ,\" /\" , num2 , \"   =\" ,result)"
   ]
  },
  {
   "cell_type": "markdown",
   "metadata": {},
   "source": [
    "`2-` Answer these 3 questions without typing code. Then type code to check your answer.<br>\n",
    "`2.1` - What is the value of the expression 4 * (6 + 5)<br>\n",
    "`2.2` - What is the value of the expression 4 * 6 + 5 <br>\n",
    "`2.3` - What is the value of the expression 4 + 6 * 5 <br>"
   ]
  },
  {
   "cell_type": "code",
   "execution_count": 14,
   "metadata": {},
   "outputs": [
    {
     "name": "stdout",
     "output_type": "stream",
     "text": [
      "4 * (6 + 5) =  44\n",
      "4 * 6 + 5   =  29\n",
      "4 + 6 * 5   =  34\n"
     ]
    }
   ],
   "source": [
    "# 2.1 ->  4 * (11) = 44\n",
    "# 2.1 ->  (4 * 6) + 5 = (24) + 5 = 29\n",
    "# 2.1 ->  4 + (6 * 5) = 4 + (30) = 34\n",
    "\n",
    "result_1 = 4 * (6 + 5)\n",
    "print(\"4 * (6 + 5) = \",result_1)\n",
    "\n",
    "result_2 = 4 * 6 + 5\n",
    "print(\"4 * 6 + 5   = \",result_2)\n",
    "\n",
    "result_3 = 4 + 6 * 5\n",
    "print(\"4 + 6 * 5   = \",result_3)"
   ]
  },
  {
   "cell_type": "markdown",
   "metadata": {},
   "source": [
    "`3-` What is the *type* of the result of the expression 3 + 1.5 + 4?<br><br>"
   ]
  },
  {
   "cell_type": "code",
   "execution_count": 15,
   "metadata": {},
   "outputs": [
    {
     "data": {
      "text/plain": [
       "float"
      ]
     },
     "execution_count": 15,
     "metadata": {},
     "output_type": "execute_result"
    }
   ],
   "source": [
    "type(3 + 1.5 + 4)"
   ]
  },
  {
   "cell_type": "markdown",
   "metadata": {},
   "source": [
    "`4-` What would you use to find a number’s square root, as well as its square? "
   ]
  },
  {
   "cell_type": "code",
   "execution_count": 17,
   "metadata": {},
   "outputs": [
    {
     "name": "stdout",
     "output_type": "stream",
     "text": [
      "Please Enter A Number : 25\n",
      "Square Root Of  25.0  is =  5.0\n"
     ]
    }
   ],
   "source": [
    "# Square root:\n",
    "num = float(input(\"Please Enter A Number : \"))\n",
    "square_root = num ** 0.5\n",
    "print(\"Square Root Of \", num , \" is = \", square_root)"
   ]
  },
  {
   "cell_type": "code",
   "execution_count": 18,
   "metadata": {},
   "outputs": [
    {
     "name": "stdout",
     "output_type": "stream",
     "text": [
      "Please Enter A Number : 5\n",
      "Square Of  5.0  is =  25.0\n"
     ]
    }
   ],
   "source": [
    "# Square:\n",
    "num = float(input(\"Please Enter A Number : \"))\n",
    "square = num ** 2\n",
    "print(\"Square Of \", num , \" is = \", square)"
   ]
  }
 ],
 "metadata": {
  "kernelspec": {
   "display_name": "Python 3",
   "language": "python",
   "name": "python3"
  },
  "language_info": {
   "codemirror_mode": {
    "name": "ipython",
    "version": 3
   },
   "file_extension": ".py",
   "mimetype": "text/x-python",
   "name": "python",
   "nbconvert_exporter": "python",
   "pygments_lexer": "ipython3",
   "version": "3.8.3"
  }
 },
 "nbformat": 4,
 "nbformat_minor": 4
}
