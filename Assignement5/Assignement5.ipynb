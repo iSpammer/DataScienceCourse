{
 "cells": [
  {
   "cell_type": "markdown",
   "metadata": {},
   "source": [
    "## Make project containing different types of files (jpg, png, mp3, txt, avi, mp4, etc..) then read all files and rename these files with random names except for jpg & mp3 they will stay with no changes."
   ]
  },
  {
   "cell_type": "code",
   "execution_count": 1,
   "metadata": {},
   "outputs": [],
   "source": [
    "import os"
   ]
  },
  {
   "cell_type": "code",
   "execution_count": 2,
   "metadata": {},
   "outputs": [],
   "source": [
    "import time"
   ]
  },
  {
   "cell_type": "code",
   "execution_count": 3,
   "metadata": {},
   "outputs": [],
   "source": [
    "import random"
   ]
  },
  {
   "cell_type": "code",
   "execution_count": 4,
   "metadata": {},
   "outputs": [],
   "source": [
    "import shutil\n"
   ]
  },
  {
   "cell_type": "code",
   "execution_count": 5,
   "metadata": {},
   "outputs": [],
   "source": [
    "import string"
   ]
  },
  {
   "cell_type": "code",
   "execution_count": 6,
   "metadata": {},
   "outputs": [],
   "source": [
    "def change_name():\n",
    "     return ''.join(random.choice(string.ascii_letters) for y in range(5))"
   ]
  },
  {
   "cell_type": "code",
   "execution_count": 7,
   "metadata": {},
   "outputs": [],
   "source": [
    "def read_folder(folder):\n",
    "    return os.listdir(folder)"
   ]
  },
  {
   "cell_type": "code",
   "execution_count": 11,
   "metadata": {},
   "outputs": [],
   "source": [
    "folder1=read_folder('/Users/ossamaakram/Documents/ossama')"
   ]
  },
  {
   "cell_type": "code",
   "execution_count": 12,
   "metadata": {},
   "outputs": [
    {
     "data": {
      "text/plain": [
       "['VID-20201121-WA0026.mp4',\n",
       " 'VID-20201121-WA0019.mp4',\n",
       " 'VID-20201121-WA0025.mp4',\n",
       " 'VID-20201120-WA0129.mp4',\n",
       " 'VID-20201121-WA0024.mp4',\n",
       " 'VID-20201121-WA0018.mp4',\n",
       " 'VID-20201121-WA0008.mp4',\n",
       " 'VID-20201121-WA0009.mp4',\n",
       " 'VID-20201121-WA0021.mp4',\n",
       " 'VID-20201121-WA0023.mp4',\n",
       " 'VID-20201121-WA0022.mp4',\n",
       " 'VID-20201121-WA0119.mp4',\n",
       " 'VID-20201121-WA0118.mp4',\n",
       " 'VID-20201121-WA0120.mp4',\n",
       " 'VID-20201121-WA0108.mp4',\n",
       " 'VID-20201121-WA0109.mp4',\n",
       " 'VID-20201121-WA0121.mp4',\n",
       " 'VID-20201121-WA0104.mp4',\n",
       " 'VID-20201121-WA0110.mp4',\n",
       " 'VID-20201121-WA0111.mp4',\n",
       " 'VID-20201121-WA0105.mp4',\n",
       " 'VID-20201121-WA0113.mp4',\n",
       " 'VID-20201121-WA0107.mp4',\n",
       " 'VID-20201121-WA0106.mp4',\n",
       " 'VID-20201121-WA0112.mp4',\n",
       " 'VID-20201121-WA0116.mp4',\n",
       " 'VID-20201121-WA0102.mp4',\n",
       " 'VID-20201121-WA0103.mp4',\n",
       " 'VID-20201121-WA0117.mp4',\n",
       " 'VID-20201121-WA0115.mp4',\n",
       " 'VID-20201121-WA0114.mp4',\n",
       " 'VID-20201121-WA0013.mp4',\n",
       " 'VID-20201121-WA0007.mp4',\n",
       " 'VID-20201121-WA0012.mp4',\n",
       " 'VID-20201121-WA0004.mp4',\n",
       " 'VID-20201121-WA0010.mp4',\n",
       " 'VID-20201121-WA0011.mp4',\n",
       " 'VID-20201121-WA0015.mp4',\n",
       " 'VID-20201121-WA0014.mp4',\n",
       " 'VID-20201121-WA0016.mp4',\n",
       " 'VID-20201121-WA0002.mp4',\n",
       " 'VID-20201121-WA0017.mp4']"
      ]
     },
     "execution_count": 12,
     "metadata": {},
     "output_type": "execute_result"
    }
   ],
   "source": [
    "folder1"
   ]
  },
  {
   "cell_type": "code",
   "execution_count": 13,
   "metadata": {},
   "outputs": [],
   "source": [
    "for file in folder1:\n",
    "    if file.split('.')[-1] != 'mp3':\n",
    "        file_name = file.split('.')[0]\n",
    "        extension = file.split('.')[-1]\n",
    "        new_name =  change_name()\n",
    "        os.rename(f'/Users/ossamaakram/Documents/ossama/{file}', f'/Users/ossamaakram/Documents/ossama/{new_name}.{extension} ')\n",
    "        time.sleep(1)"
   ]
  },
  {
   "cell_type": "code",
   "execution_count": 14,
   "metadata": {},
   "outputs": [
    {
     "data": {
      "text/plain": [
       "'mp4'"
      ]
     },
     "execution_count": 14,
     "metadata": {},
     "output_type": "execute_result"
    }
   ],
   "source": [
    "folder1[-2].split('.')[-1]"
   ]
  },
  {
   "cell_type": "code",
   "execution_count": 15,
   "metadata": {},
   "outputs": [
    {
     "data": {
      "text/plain": [
       "['VID-20201121-WA0026.mp4',\n",
       " 'VID-20201121-WA0019.mp4',\n",
       " 'VID-20201121-WA0025.mp4',\n",
       " 'VID-20201120-WA0129.mp4',\n",
       " 'VID-20201121-WA0024.mp4',\n",
       " 'VID-20201121-WA0018.mp4',\n",
       " 'VID-20201121-WA0008.mp4',\n",
       " 'VID-20201121-WA0009.mp4',\n",
       " 'VID-20201121-WA0021.mp4',\n",
       " 'VID-20201121-WA0023.mp4',\n",
       " 'VID-20201121-WA0022.mp4',\n",
       " 'VID-20201121-WA0119.mp4',\n",
       " 'VID-20201121-WA0118.mp4',\n",
       " 'VID-20201121-WA0120.mp4',\n",
       " 'VID-20201121-WA0108.mp4',\n",
       " 'VID-20201121-WA0109.mp4',\n",
       " 'VID-20201121-WA0121.mp4',\n",
       " 'VID-20201121-WA0104.mp4',\n",
       " 'VID-20201121-WA0110.mp4',\n",
       " 'VID-20201121-WA0111.mp4',\n",
       " 'VID-20201121-WA0105.mp4',\n",
       " 'VID-20201121-WA0113.mp4',\n",
       " 'VID-20201121-WA0107.mp4',\n",
       " 'VID-20201121-WA0106.mp4',\n",
       " 'VID-20201121-WA0112.mp4',\n",
       " 'VID-20201121-WA0116.mp4',\n",
       " 'VID-20201121-WA0102.mp4',\n",
       " 'VID-20201121-WA0103.mp4',\n",
       " 'VID-20201121-WA0117.mp4',\n",
       " 'VID-20201121-WA0115.mp4',\n",
       " 'VID-20201121-WA0114.mp4',\n",
       " 'VID-20201121-WA0013.mp4',\n",
       " 'VID-20201121-WA0007.mp4',\n",
       " 'VID-20201121-WA0012.mp4',\n",
       " 'VID-20201121-WA0004.mp4',\n",
       " 'VID-20201121-WA0010.mp4',\n",
       " 'VID-20201121-WA0011.mp4',\n",
       " 'VID-20201121-WA0015.mp4',\n",
       " 'VID-20201121-WA0014.mp4',\n",
       " 'VID-20201121-WA0016.mp4',\n",
       " 'VID-20201121-WA0002.mp4',\n",
       " 'VID-20201121-WA0017.mp4']"
      ]
     },
     "execution_count": 15,
     "metadata": {},
     "output_type": "execute_result"
    }
   ],
   "source": [
    "folder1"
   ]
  },
  {
   "cell_type": "code",
   "execution_count": null,
   "metadata": {},
   "outputs": [],
   "source": []
  }
 ],
 "metadata": {
  "kernelspec": {
   "display_name": "Python 3",
   "language": "python",
   "name": "python3"
  },
  "language_info": {
   "codemirror_mode": {
    "name": "ipython",
    "version": 3
   },
   "file_extension": ".py",
   "mimetype": "text/x-python",
   "name": "python",
   "nbconvert_exporter": "python",
   "pygments_lexer": "ipython3",
   "version": "3.8.3"
  }
 },
 "nbformat": 4,
 "nbformat_minor": 4
}
